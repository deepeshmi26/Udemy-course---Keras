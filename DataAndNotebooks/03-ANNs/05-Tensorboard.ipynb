{
 "cells": [
  {
   "cell_type": "markdown",
   "metadata": {},
   "source": [
    "<a href=\"https://www.pieriandata.com\"><img src=\"../Pierian_Data_Logo.PNG\"></a>\n",
    "<strong><center>Copyright by Pierian Data Inc.</center></strong> \n",
    "<strong><center>Created by Jose Marcial Portilla.</center></strong>"
   ]
  },
  {
   "cell_type": "markdown",
   "metadata": {},
   "source": [
    "# Tensorboard\n",
    "\n",
    "---\n",
    "---\n",
    "\n",
    "**NOTE: You must watch the corresponding video to understand this lecture. This notebook can't serve as a full guide. Please watch the video BEFORE posting questions to the QA forum.**\n",
    "\n",
    "---\n",
    "---\n",
    "\n",
    "Let's explore the built in data visualization capabilities that come with Tensorboard.\n",
    "\n",
    "Full official tutorial available here: https://www.tensorflow.org/tensorboard/get_started\n",
    "\n",
    "## Data"
   ]
  },
  {
   "cell_type": "code",
   "execution_count": 1,
   "metadata": {},
   "outputs": [],
   "source": [
    "import pandas as pd\n",
    "import numpy as np"
   ]
  },
  {
   "cell_type": "code",
   "execution_count": 2,
   "metadata": {},
   "outputs": [],
   "source": [
    "df = pd.read_csv('../DATA/cancer_classification.csv')"
   ]
  },
  {
   "cell_type": "markdown",
   "metadata": {},
   "source": [
    "### Train Test Split"
   ]
  },
  {
   "cell_type": "code",
   "execution_count": 3,
   "metadata": {},
   "outputs": [],
   "source": [
    "X = df.drop('benign_0__mal_1',axis=1).values\n",
    "y = df['benign_0__mal_1'].values"
   ]
  },
  {
   "cell_type": "code",
   "execution_count": 4,
   "metadata": {},
   "outputs": [],
   "source": [
    "from sklearn.model_selection import train_test_split"
   ]
  },
  {
   "cell_type": "code",
   "execution_count": 5,
   "metadata": {},
   "outputs": [],
   "source": [
    "X_train, X_test, y_train, y_test = train_test_split(X,y,test_size=0.25,random_state=101)"
   ]
  },
  {
   "cell_type": "markdown",
   "metadata": {},
   "source": [
    "\n",
    "### Scaling Data"
   ]
  },
  {
   "cell_type": "code",
   "execution_count": 6,
   "metadata": {},
   "outputs": [],
   "source": [
    "from sklearn.preprocessing import MinMaxScaler"
   ]
  },
  {
   "cell_type": "code",
   "execution_count": 7,
   "metadata": {},
   "outputs": [],
   "source": [
    "scaler = MinMaxScaler()"
   ]
  },
  {
   "cell_type": "code",
   "execution_count": 8,
   "metadata": {},
   "outputs": [
    {
     "data": {
      "text/plain": [
       "MinMaxScaler()"
      ]
     },
     "execution_count": 8,
     "metadata": {},
     "output_type": "execute_result"
    }
   ],
   "source": [
    "scaler.fit(X_train)"
   ]
  },
  {
   "cell_type": "code",
   "execution_count": 9,
   "metadata": {},
   "outputs": [],
   "source": [
    "X_train = scaler.transform(X_train)\n",
    "X_test = scaler.transform(X_test)"
   ]
  },
  {
   "cell_type": "markdown",
   "metadata": {},
   "source": [
    "## Creating the Model"
   ]
  },
  {
   "cell_type": "code",
   "execution_count": 10,
   "metadata": {},
   "outputs": [],
   "source": [
    "import tensorflow as tf\n",
    "from tensorflow.keras.models import Sequential\n",
    "from tensorflow.keras.layers import Dense, Activation,Dropout"
   ]
  },
  {
   "cell_type": "code",
   "execution_count": 11,
   "metadata": {},
   "outputs": [],
   "source": [
    "from tensorflow.keras.callbacks import EarlyStopping,TensorBoard"
   ]
  },
  {
   "cell_type": "code",
   "execution_count": 12,
   "metadata": {},
   "outputs": [],
   "source": [
    "early_stop = EarlyStopping(monitor='val_loss', mode='min', verbose=1, patience=25)"
   ]
  },
  {
   "cell_type": "code",
   "execution_count": 13,
   "metadata": {},
   "outputs": [
    {
     "data": {
      "text/plain": [
       "'D:\\\\Data Science\\\\Udemy course - Keras\\\\DataAndNotebooks\\\\03-ANNs'"
      ]
     },
     "execution_count": 13,
     "metadata": {},
     "output_type": "execute_result"
    }
   ],
   "source": [
    "pwd"
   ]
  },
  {
   "cell_type": "markdown",
   "metadata": {},
   "source": [
    "## Creating the Tensorboard Callback\n",
    "\n",
    "TensorBoard is a visualization tool provided with TensorFlow.\n",
    "\n",
    "This callback logs events for TensorBoard, including:\n",
    "* Metrics summary plots\n",
    "* Training graph visualization\n",
    "* Activation histograms\n",
    "* Sampled profiling\n",
    "\n",
    "If you have installed TensorFlow with pip, you should be able\n",
    "to launch TensorBoard from the command line:\n",
    "\n",
    "```sh\n",
    "tensorboard --logdir=path_to_your_logs\n",
    "```\n",
    "\n",
    "You can find more information about TensorBoard\n",
    "[here](https://www.tensorflow.org/tensorboard/).\n",
    "\n",
    "    Arguments:\n",
    "        log_dir: the path of the directory where to save the log files to be\n",
    "          parsed by TensorBoard.\n",
    "        histogram_freq: frequency (in epochs) at which to compute activation and\n",
    "          weight histograms for the layers of the model. If set to 0, histograms\n",
    "          won't be computed. Validation data (or split) must be specified for\n",
    "          histogram visualizations.\n",
    "        write_graph: whether to visualize the graph in TensorBoard. The log file\n",
    "          can become quite large when write_graph is set to True.\n",
    "        write_images: whether to write model weights to visualize as image in\n",
    "          TensorBoard.\n",
    "        update_freq: `'batch'` or `'epoch'` or integer. When using `'batch'`,\n",
    "          writes the losses and metrics to TensorBoard after each batch. The same\n",
    "          applies for `'epoch'`. If using an integer, let's say `1000`, the\n",
    "          callback will write the metrics and losses to TensorBoard every 1000\n",
    "          samples. Note that writing too frequently to TensorBoard can slow down\n",
    "          your training.\n",
    "        profile_batch: Profile the batch to sample compute characteristics. By\n",
    "          default, it will profile the second batch. Set profile_batch=0 to\n",
    "          disable profiling. Must run in TensorFlow eager mode.\n",
    "        embeddings_freq: frequency (in epochs) at which embedding layers will\n",
    "          be visualized. If set to 0, embeddings won't be visualized.\n",
    "       "
   ]
  },
  {
   "cell_type": "code",
   "execution_count": 14,
   "metadata": {},
   "outputs": [],
   "source": [
    "from datetime import datetime"
   ]
  },
  {
   "cell_type": "code",
   "execution_count": 15,
   "metadata": {},
   "outputs": [
    {
     "data": {
      "text/plain": [
       "'2021-03-04--1111'"
      ]
     },
     "execution_count": 15,
     "metadata": {},
     "output_type": "execute_result"
    }
   ],
   "source": [
    "datetime.now().strftime(\"%Y-%m-%d--%H%M\")"
   ]
  },
  {
   "cell_type": "code",
   "execution_count": 16,
   "metadata": {},
   "outputs": [],
   "source": [
    "# WINDOWS: Use \"logs\\\\fit\"\n",
    "# MACOS/LINUX: Use \"logs\\fit\"\n",
    "\n",
    "log_directory = 'logs\\\\fit'\n",
    "\n",
    "# OPTIONAL: ADD A TIMESTAMP FOR UNIQUE FOLDER\n",
    "# timestamp = datetime.now().strftime(\"%Y-%m-%d--%H%M\")\n",
    "# log_directory = log_directory + '\\\\' + timestamp\n",
    "\n",
    "\n",
    "board = TensorBoard(log_dir=log_directory,histogram_freq=1,\n",
    "    write_graph=True,\n",
    "    write_images=True,\n",
    "    update_freq='epoch',\n",
    "    profile_batch=2,\n",
    "    embeddings_freq=1)"
   ]
  },
  {
   "cell_type": "markdown",
   "metadata": {},
   "source": [
    "Now create the model layers:"
   ]
  },
  {
   "cell_type": "code",
   "execution_count": 17,
   "metadata": {},
   "outputs": [],
   "source": [
    "model = Sequential()\n",
    "model.add(Dense(units=30,activation='relu'))\n",
    "model.add(Dropout(0.5))\n",
    "model.add(Dense(units=15,activation='relu'))\n",
    "model.add(Dropout(0.5))\n",
    "model.add(Dense(units=1,activation='sigmoid'))\n",
    "model.compile(loss='binary_crossentropy', optimizer='adam')"
   ]
  },
  {
   "cell_type": "markdown",
   "metadata": {},
   "source": [
    "## Train the Model"
   ]
  },
  {
   "cell_type": "code",
   "execution_count": 18,
   "metadata": {},
   "outputs": [
    {
     "name": "stdout",
     "output_type": "stream",
     "text": [
      "Epoch 1/600\n",
      " 1/14 [=>............................] - ETA: 0s - loss: 0.7520WARNING:tensorflow:From C:\\Users\\anjan\\anaconda3\\envs\\tensorflow\\lib\\site-packages\\tensorflow\\python\\ops\\summary_ops_v2.py:1277: stop (from tensorflow.python.eager.profiler) is deprecated and will be removed after 2020-07-01.\n",
      "Instructions for updating:\n",
      "use `tf.profiler.experimental.stop` instead.\n",
      " 2/14 [===>..........................] - ETA: 1s - loss: 0.7493WARNING:tensorflow:Callbacks method `on_train_batch_end` is slow compared to the batch time (batch time: 0.0060s vs `on_train_batch_end` time: 0.2948s). Check your callbacks.\n",
      "WARNING:tensorflow:Callbacks method `on_test_batch_begin` is slow compared to the batch time (batch time: 0.0000s vs `on_test_batch_begin` time: 0.0009s). Check your callbacks.\n",
      "14/14 [==============================] - 1s 57ms/step - loss: 0.7583 - val_loss: 0.6940\n",
      "Epoch 2/600\n",
      "14/14 [==============================] - 0s 19ms/step - loss: 0.6908 - val_loss: 0.6785\n",
      "Epoch 3/600\n",
      "14/14 [==============================] - 0s 24ms/step - loss: 0.6742 - val_loss: 0.6680\n",
      "Epoch 4/600\n",
      "14/14 [==============================] - 0s 22ms/step - loss: 0.6702 - val_loss: 0.6586\n",
      "Epoch 5/600\n",
      "14/14 [==============================] - 0s 18ms/step - loss: 0.6549 - val_loss: 0.6476\n",
      "Epoch 6/600\n",
      "14/14 [==============================] - 0s 18ms/step - loss: 0.6476 - val_loss: 0.6325\n",
      "Epoch 7/600\n",
      "14/14 [==============================] - 0s 20ms/step - loss: 0.6410 - val_loss: 0.6130\n",
      "Epoch 8/600\n",
      "14/14 [==============================] - 0s 17ms/step - loss: 0.6307 - val_loss: 0.5946\n",
      "Epoch 9/600\n",
      "14/14 [==============================] - 0s 17ms/step - loss: 0.6037 - val_loss: 0.5740\n",
      "Epoch 10/600\n",
      "14/14 [==============================] - 0s 19ms/step - loss: 0.5858 - val_loss: 0.5510\n",
      "Epoch 11/600\n",
      "14/14 [==============================] - 0s 19ms/step - loss: 0.5703 - val_loss: 0.5306\n",
      "Epoch 12/600\n",
      "14/14 [==============================] - 0s 28ms/step - loss: 0.5410 - val_loss: 0.5039\n",
      "Epoch 13/600\n",
      "14/14 [==============================] - 0s 16ms/step - loss: 0.5177 - val_loss: 0.4714\n",
      "Epoch 14/600\n",
      "14/14 [==============================] - 0s 17ms/step - loss: 0.4943 - val_loss: 0.4440\n",
      "Epoch 15/600\n",
      "14/14 [==============================] - 0s 16ms/step - loss: 0.4758 - val_loss: 0.4077\n",
      "Epoch 16/600\n",
      "14/14 [==============================] - 0s 16ms/step - loss: 0.4538 - val_loss: 0.3783\n",
      "Epoch 17/600\n",
      "14/14 [==============================] - 0s 16ms/step - loss: 0.4250 - val_loss: 0.3452\n",
      "Epoch 18/600\n",
      "14/14 [==============================] - 0s 17ms/step - loss: 0.4092 - val_loss: 0.3266\n",
      "Epoch 19/600\n",
      "14/14 [==============================] - 0s 16ms/step - loss: 0.3902 - val_loss: 0.3044\n",
      "Epoch 20/600\n",
      "14/14 [==============================] - 0s 16ms/step - loss: 0.3859 - val_loss: 0.2846\n",
      "Epoch 21/600\n",
      "14/14 [==============================] - 0s 17ms/step - loss: 0.3623 - val_loss: 0.2809\n",
      "Epoch 22/600\n",
      "14/14 [==============================] - 0s 16ms/step - loss: 0.3499 - val_loss: 0.2659\n",
      "Epoch 23/600\n",
      "14/14 [==============================] - 0s 17ms/step - loss: 0.3303 - val_loss: 0.2603\n",
      "Epoch 24/600\n",
      "14/14 [==============================] - 0s 18ms/step - loss: 0.3196 - val_loss: 0.2395\n",
      "Epoch 25/600\n",
      "14/14 [==============================] - 0s 15ms/step - loss: 0.3090 - val_loss: 0.2268\n",
      "Epoch 26/600\n",
      "14/14 [==============================] - 0s 16ms/step - loss: 0.2941 - val_loss: 0.2166\n",
      "Epoch 27/600\n",
      "14/14 [==============================] - 0s 17ms/step - loss: 0.3101 - val_loss: 0.2054\n",
      "Epoch 28/600\n",
      "14/14 [==============================] - 0s 16ms/step - loss: 0.3263 - val_loss: 0.2022\n",
      "Epoch 29/600\n",
      "14/14 [==============================] - 0s 16ms/step - loss: 0.3150 - val_loss: 0.1957\n",
      "Epoch 30/600\n",
      "14/14 [==============================] - 0s 16ms/step - loss: 0.2848 - val_loss: 0.1913\n",
      "Epoch 31/600\n",
      "14/14 [==============================] - 0s 18ms/step - loss: 0.2648 - val_loss: 0.1901\n",
      "Epoch 32/600\n",
      "14/14 [==============================] - 0s 16ms/step - loss: 0.2732 - val_loss: 0.1865\n",
      "Epoch 33/600\n",
      "14/14 [==============================] - 0s 15ms/step - loss: 0.2897 - val_loss: 0.1768\n",
      "Epoch 34/600\n",
      "14/14 [==============================] - 0s 14ms/step - loss: 0.2626 - val_loss: 0.1753\n",
      "Epoch 35/600\n",
      "14/14 [==============================] - 0s 14ms/step - loss: 0.2372 - val_loss: 0.1654\n",
      "Epoch 36/600\n",
      "14/14 [==============================] - 0s 12ms/step - loss: 0.2547 - val_loss: 0.1597\n",
      "Epoch 37/600\n",
      "14/14 [==============================] - 0s 14ms/step - loss: 0.2275 - val_loss: 0.1561\n",
      "Epoch 38/600\n",
      "14/14 [==============================] - 0s 14ms/step - loss: 0.2362 - val_loss: 0.1581\n",
      "Epoch 39/600\n",
      "14/14 [==============================] - 0s 13ms/step - loss: 0.2388 - val_loss: 0.1502\n",
      "Epoch 40/600\n",
      "14/14 [==============================] - 0s 15ms/step - loss: 0.2173 - val_loss: 0.1502\n",
      "Epoch 41/600\n",
      "14/14 [==============================] - 0s 14ms/step - loss: 0.2211 - val_loss: 0.1447\n",
      "Epoch 42/600\n",
      "14/14 [==============================] - 0s 14ms/step - loss: 0.2175 - val_loss: 0.1437\n",
      "Epoch 43/600\n",
      "14/14 [==============================] - 0s 15ms/step - loss: 0.2048 - val_loss: 0.1387\n",
      "Epoch 44/600\n",
      "14/14 [==============================] - 0s 15ms/step - loss: 0.2193 - val_loss: 0.1401\n",
      "Epoch 45/600\n",
      "14/14 [==============================] - 0s 15ms/step - loss: 0.2075 - val_loss: 0.1364\n",
      "Epoch 46/600\n",
      "14/14 [==============================] - ETA: 0s - loss: 0.152 - 0s 13ms/step - loss: 0.2044 - val_loss: 0.1444\n",
      "Epoch 47/600\n",
      "14/14 [==============================] - 0s 15ms/step - loss: 0.2020 - val_loss: 0.1430\n",
      "Epoch 48/600\n",
      "14/14 [==============================] - 0s 16ms/step - loss: 0.2109 - val_loss: 0.1340\n",
      "Epoch 49/600\n",
      "14/14 [==============================] - 0s 15ms/step - loss: 0.2071 - val_loss: 0.1355\n",
      "Epoch 50/600\n",
      "14/14 [==============================] - 0s 22ms/step - loss: 0.1925 - val_loss: 0.1326\n",
      "Epoch 51/600\n",
      "14/14 [==============================] - 0s 16ms/step - loss: 0.1877 - val_loss: 0.1236\n",
      "Epoch 52/600\n",
      "14/14 [==============================] - 0s 16ms/step - loss: 0.1861 - val_loss: 0.1304\n",
      "Epoch 53/600\n",
      "14/14 [==============================] - 0s 17ms/step - loss: 0.1694 - val_loss: 0.1466\n",
      "Epoch 54/600\n",
      "14/14 [==============================] - 0s 16ms/step - loss: 0.1987 - val_loss: 0.1208\n",
      "Epoch 55/600\n",
      "14/14 [==============================] - 0s 18ms/step - loss: 0.1710 - val_loss: 0.1223\n",
      "Epoch 56/600\n",
      "14/14 [==============================] - 0s 16ms/step - loss: 0.1632 - val_loss: 0.1269\n",
      "Epoch 57/600\n",
      "14/14 [==============================] - 0s 16ms/step - loss: 0.1783 - val_loss: 0.1235\n",
      "Epoch 58/600\n",
      "14/14 [==============================] - 0s 15ms/step - loss: 0.1762 - val_loss: 0.1167\n",
      "Epoch 59/600\n",
      "14/14 [==============================] - 0s 16ms/step - loss: 0.1775 - val_loss: 0.1243\n",
      "Epoch 60/600\n",
      "14/14 [==============================] - 0s 16ms/step - loss: 0.1651 - val_loss: 0.1182\n",
      "Epoch 61/600\n",
      "14/14 [==============================] - 0s 15ms/step - loss: 0.1714 - val_loss: 0.1190\n",
      "Epoch 62/600\n",
      "14/14 [==============================] - 0s 15ms/step - loss: 0.1566 - val_loss: 0.1208\n",
      "Epoch 63/600\n",
      "14/14 [==============================] - 0s 13ms/step - loss: 0.1532 - val_loss: 0.1173\n",
      "Epoch 64/600\n",
      "14/14 [==============================] - 0s 14ms/step - loss: 0.1554 - val_loss: 0.1116\n",
      "Epoch 65/600\n",
      "14/14 [==============================] - 0s 17ms/step - loss: 0.1388 - val_loss: 0.1163\n",
      "Epoch 66/600\n",
      "14/14 [==============================] - 0s 13ms/step - loss: 0.1432 - val_loss: 0.1161\n",
      "Epoch 67/600\n",
      "14/14 [==============================] - 0s 15ms/step - loss: 0.1346 - val_loss: 0.1122\n",
      "Epoch 68/600\n",
      "14/14 [==============================] - 0s 12ms/step - loss: 0.1505 - val_loss: 0.1088\n",
      "Epoch 69/600\n",
      "14/14 [==============================] - 0s 13ms/step - loss: 0.1458 - val_loss: 0.1145\n",
      "Epoch 70/600\n",
      "14/14 [==============================] - 0s 16ms/step - loss: 0.1448 - val_loss: 0.1131\n",
      "Epoch 71/600\n",
      "14/14 [==============================] - 0s 14ms/step - loss: 0.1568 - val_loss: 0.1084\n",
      "Epoch 72/600\n",
      "14/14 [==============================] - 0s 13ms/step - loss: 0.1306 - val_loss: 0.1049\n",
      "Epoch 73/600\n",
      "14/14 [==============================] - 0s 16ms/step - loss: 0.1407 - val_loss: 0.1099\n",
      "Epoch 74/600\n"
     ]
    },
    {
     "name": "stdout",
     "output_type": "stream",
     "text": [
      "14/14 [==============================] - 0s 15ms/step - loss: 0.1587 - val_loss: 0.1103\n",
      "Epoch 75/600\n",
      "14/14 [==============================] - 0s 15ms/step - loss: 0.1676 - val_loss: 0.1131\n",
      "Epoch 76/600\n",
      "14/14 [==============================] - 0s 12ms/step - loss: 0.1253 - val_loss: 0.1125\n",
      "Epoch 77/600\n",
      "14/14 [==============================] - 0s 15ms/step - loss: 0.1170 - val_loss: 0.1049\n",
      "Epoch 78/600\n",
      "14/14 [==============================] - 0s 14ms/step - loss: 0.1513 - val_loss: 0.1362\n",
      "Epoch 79/600\n",
      "14/14 [==============================] - 0s 16ms/step - loss: 0.1565 - val_loss: 0.1052\n",
      "Epoch 80/600\n",
      "14/14 [==============================] - 0s 16ms/step - loss: 0.1365 - val_loss: 0.1063\n",
      "Epoch 81/600\n",
      "14/14 [==============================] - 0s 16ms/step - loss: 0.1192 - val_loss: 0.1081\n",
      "Epoch 82/600\n",
      "14/14 [==============================] - 0s 14ms/step - loss: 0.1503 - val_loss: 0.1077\n",
      "Epoch 83/600\n",
      "14/14 [==============================] - 0s 14ms/step - loss: 0.1303 - val_loss: 0.1062\n",
      "Epoch 84/600\n",
      "14/14 [==============================] - 0s 16ms/step - loss: 0.1230 - val_loss: 0.1043\n",
      "Epoch 85/600\n",
      "14/14 [==============================] - 0s 15ms/step - loss: 0.1437 - val_loss: 0.1101\n",
      "Epoch 86/600\n",
      "14/14 [==============================] - 0s 16ms/step - loss: 0.1298 - val_loss: 0.1126\n",
      "Epoch 87/600\n",
      "14/14 [==============================] - 0s 17ms/step - loss: 0.1303 - val_loss: 0.1065\n",
      "Epoch 88/600\n",
      "14/14 [==============================] - 0s 16ms/step - loss: 0.1174 - val_loss: 0.1053\n",
      "Epoch 89/600\n",
      "14/14 [==============================] - 0s 16ms/step - loss: 0.1446 - val_loss: 0.1026\n",
      "Epoch 90/600\n",
      "14/14 [==============================] - 0s 16ms/step - loss: 0.1227 - val_loss: 0.1112\n",
      "Epoch 91/600\n",
      "14/14 [==============================] - 0s 18ms/step - loss: 0.1268 - val_loss: 0.1071\n",
      "Epoch 92/600\n",
      "14/14 [==============================] - 0s 17ms/step - loss: 0.1264 - val_loss: 0.1230\n",
      "Epoch 93/600\n",
      "14/14 [==============================] - 0s 16ms/step - loss: 0.1282 - val_loss: 0.1059\n",
      "Epoch 94/600\n",
      "14/14 [==============================] - 0s 16ms/step - loss: 0.1388 - val_loss: 0.1084\n",
      "Epoch 95/600\n",
      "14/14 [==============================] - 0s 17ms/step - loss: 0.1303 - val_loss: 0.1081\n",
      "Epoch 96/600\n",
      "14/14 [==============================] - 0s 17ms/step - loss: 0.1152 - val_loss: 0.1026\n",
      "Epoch 97/600\n",
      "14/14 [==============================] - 0s 16ms/step - loss: 0.0975 - val_loss: 0.1438\n",
      "Epoch 98/600\n",
      "14/14 [==============================] - 0s 16ms/step - loss: 0.1264 - val_loss: 0.1065\n",
      "Epoch 99/600\n",
      "14/14 [==============================] - 0s 15ms/step - loss: 0.1154 - val_loss: 0.1139\n",
      "Epoch 100/600\n",
      "14/14 [==============================] - 0s 15ms/step - loss: 0.1323 - val_loss: 0.1063\n",
      "Epoch 101/600\n",
      "14/14 [==============================] - 0s 16ms/step - loss: 0.1188 - val_loss: 0.1157\n",
      "Epoch 102/600\n",
      "14/14 [==============================] - 0s 13ms/step - loss: 0.1277 - val_loss: 0.1028\n",
      "Epoch 103/600\n",
      "14/14 [==============================] - 0s 14ms/step - loss: 0.1325 - val_loss: 0.0977\n",
      "Epoch 104/600\n",
      "14/14 [==============================] - 0s 15ms/step - loss: 0.1191 - val_loss: 0.1066\n",
      "Epoch 105/600\n",
      "14/14 [==============================] - 0s 14ms/step - loss: 0.1185 - val_loss: 0.1049\n",
      "Epoch 106/600\n",
      "14/14 [==============================] - 0s 18ms/step - loss: 0.1008 - val_loss: 0.0991\n",
      "Epoch 107/600\n",
      "14/14 [==============================] - 0s 14ms/step - loss: 0.1114 - val_loss: 0.0978\n",
      "Epoch 108/600\n",
      "14/14 [==============================] - 0s 17ms/step - loss: 0.1140 - val_loss: 0.1066\n",
      "Epoch 109/600\n",
      "14/14 [==============================] - 0s 14ms/step - loss: 0.1100 - val_loss: 0.1043\n",
      "Epoch 110/600\n",
      "14/14 [==============================] - 0s 16ms/step - loss: 0.1194 - val_loss: 0.1065\n",
      "Epoch 111/600\n",
      "14/14 [==============================] - 0s 15ms/step - loss: 0.1276 - val_loss: 0.1032\n",
      "Epoch 112/600\n",
      "14/14 [==============================] - 0s 12ms/step - loss: 0.1030 - val_loss: 0.0985\n",
      "Epoch 113/600\n",
      "14/14 [==============================] - 0s 16ms/step - loss: 0.1321 - val_loss: 0.1073\n",
      "Epoch 114/600\n",
      "14/14 [==============================] - 0s 15ms/step - loss: 0.1155 - val_loss: 0.1123\n",
      "Epoch 115/600\n",
      "14/14 [==============================] - 0s 12ms/step - loss: 0.1127 - val_loss: 0.1005\n",
      "Epoch 116/600\n",
      "14/14 [==============================] - 0s 13ms/step - loss: 0.0975 - val_loss: 0.1056\n",
      "Epoch 117/600\n",
      "14/14 [==============================] - 0s 12ms/step - loss: 0.1308 - val_loss: 0.1302\n",
      "Epoch 118/600\n",
      "14/14 [==============================] - 0s 12ms/step - loss: 0.1025 - val_loss: 0.1125\n",
      "Epoch 119/600\n",
      "14/14 [==============================] - 0s 13ms/step - loss: 0.1138 - val_loss: 0.1054\n",
      "Epoch 120/600\n",
      "14/14 [==============================] - 0s 12ms/step - loss: 0.1159 - val_loss: 0.1216\n",
      "Epoch 121/600\n",
      "14/14 [==============================] - 0s 13ms/step - loss: 0.1073 - val_loss: 0.1077\n",
      "Epoch 122/600\n",
      "14/14 [==============================] - 0s 15ms/step - loss: 0.1126 - val_loss: 0.1039\n",
      "Epoch 123/600\n",
      "14/14 [==============================] - 0s 16ms/step - loss: 0.1159 - val_loss: 0.1013\n",
      "Epoch 124/600\n",
      "14/14 [==============================] - 0s 16ms/step - loss: 0.1194 - val_loss: 0.1058\n",
      "Epoch 125/600\n",
      "14/14 [==============================] - 0s 17ms/step - loss: 0.1138 - val_loss: 0.1179\n",
      "Epoch 126/600\n",
      "14/14 [==============================] - 0s 20ms/step - loss: 0.1198 - val_loss: 0.1123\n",
      "Epoch 127/600\n",
      "14/14 [==============================] - 0s 14ms/step - loss: 0.1210 - val_loss: 0.1030\n",
      "Epoch 128/600\n",
      "14/14 [==============================] - 0s 14ms/step - loss: 0.1272 - val_loss: 0.1103\n",
      "Epoch 00128: early stopping\n"
     ]
    },
    {
     "data": {
      "text/plain": [
       "<tensorflow.python.keras.callbacks.History at 0x16f99aae0c8>"
      ]
     },
     "execution_count": 18,
     "metadata": {},
     "output_type": "execute_result"
    }
   ],
   "source": [
    "model.fit(x=X_train, \n",
    "          y=y_train, \n",
    "          epochs=600,\n",
    "          validation_data=(X_test, y_test), verbose=1,\n",
    "          callbacks=[early_stop,board]\n",
    "          )"
   ]
  },
  {
   "cell_type": "markdown",
   "metadata": {},
   "source": [
    "# Running Tensorboard\n"
   ]
  },
  {
   "cell_type": "markdown",
   "metadata": {},
   "source": [
    "## Running through the Command Line\n",
    "\n",
    "**Watch video to see how to run Tensorboard through a command line call.**"
   ]
  },
  {
   "cell_type": "markdown",
   "metadata": {},
   "source": [
    "Tensorboard will run locally in your browser at [http://localhost:6006/](http://localhost:6006/)\n"
   ]
  },
  {
   "cell_type": "code",
   "execution_count": 19,
   "metadata": {},
   "outputs": [
    {
     "name": "stdout",
     "output_type": "stream",
     "text": [
      "logs\\fit\n"
     ]
    }
   ],
   "source": [
    "print(log_directory)"
   ]
  },
  {
   "cell_type": "code",
   "execution_count": 20,
   "metadata": {},
   "outputs": [
    {
     "data": {
      "text/plain": [
       "'D:\\\\Data Science\\\\Udemy course - Keras\\\\DataAndNotebooks\\\\03-ANNs'"
      ]
     },
     "execution_count": 20,
     "metadata": {},
     "output_type": "execute_result"
    }
   ],
   "source": [
    "pwd"
   ]
  },
  {
   "cell_type": "markdown",
   "metadata": {},
   "source": [
    "### Use cd at your command line to change directory to the file path reported back by pwd or your current .py file location.\n",
    "### Then run this code at your command line or terminal"
   ]
  },
  {
   "cell_type": "code",
   "execution_count": 21,
   "metadata": {},
   "outputs": [
    {
     "ename": "SyntaxError",
     "evalue": "invalid syntax (<ipython-input-21-f1f15e2adad4>, line 1)",
     "output_type": "error",
     "traceback": [
      "\u001b[1;36m  File \u001b[1;32m\"<ipython-input-21-f1f15e2adad4>\"\u001b[1;36m, line \u001b[1;32m1\u001b[0m\n\u001b[1;33m    tensorboard --logdir logs\\fit\u001b[0m\n\u001b[1;37m                            ^\u001b[0m\n\u001b[1;31mSyntaxError\u001b[0m\u001b[1;31m:\u001b[0m invalid syntax\n"
     ]
    }
   ],
   "source": [
    "tensorboard --logdir logs\\fit "
   ]
  }
 ],
 "metadata": {
  "kernelspec": {
   "display_name": "Python 3",
   "language": "python",
   "name": "python3"
  },
  "language_info": {
   "codemirror_mode": {
    "name": "ipython",
    "version": 3
   },
   "file_extension": ".py",
   "mimetype": "text/x-python",
   "name": "python",
   "nbconvert_exporter": "python",
   "pygments_lexer": "ipython3",
   "version": "3.7.9"
  },
  "toc": {
   "base_numbering": 1,
   "nav_menu": {},
   "number_sections": true,
   "sideBar": true,
   "skip_h1_title": false,
   "title_cell": "Table of Contents",
   "title_sidebar": "Contents",
   "toc_cell": false,
   "toc_position": {},
   "toc_section_display": true,
   "toc_window_display": false
  }
 },
 "nbformat": 4,
 "nbformat_minor": 2
}
